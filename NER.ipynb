{
  "nbformat": 4,
  "nbformat_minor": 0,
  "metadata": {
    "colab": {
      "name": "NER.ipynb",
      "provenance": []
    },
    "kernelspec": {
      "name": "python3",
      "display_name": "Python 3"
    },
    "language_info": {
      "name": "python"
    }
  },
  "cells": [
    {
      "cell_type": "code",
      "metadata": {
        "id": "6EYX4OqKWPcP"
      },
      "source": [
        "import tensorflow as tf"
      ],
      "execution_count": null,
      "outputs": []
    },
    {
      "cell_type": "code",
      "metadata": {
        "id": "5BeFamu2Wq5V"
      },
      "source": [
        "from tensorflow import keras"
      ],
      "execution_count": null,
      "outputs": []
    },
    {
      "cell_type": "code",
      "metadata": {
        "id": "fAab8r0nWub-"
      },
      "source": [
        "from tensorflow.keras import layers"
      ],
      "execution_count": null,
      "outputs": []
    },
    {
      "cell_type": "code",
      "metadata": {
        "id": "ARwi02UlW0S2"
      },
      "source": [
        "import pandas as pd"
      ],
      "execution_count": null,
      "outputs": []
    },
    {
      "cell_type": "code",
      "metadata": {
        "id": "qXdFBgBUW81o"
      },
      "source": [
        "import numpy as np"
      ],
      "execution_count": null,
      "outputs": []
    },
    {
      "cell_type": "code",
      "metadata": {
        "id": "HUc8IYjYW-vQ"
      },
      "source": [
        "data=pd.read_csv(\"names.csv\")"
      ],
      "execution_count": null,
      "outputs": []
    },
    {
      "cell_type": "code",
      "metadata": {
        "colab": {
          "base_uri": "https://localhost:8080/",
          "height": 205
        },
        "id": "itVuZ3p5ZXGB",
        "outputId": "86aa8b79-9945-427f-c1b9-5314306b5e51"
      },
      "source": [
        "data.head()"
      ],
      "execution_count": null,
      "outputs": [
        {
          "output_type": "execute_result",
          "data": {
            "text/html": [
              "<div>\n",
              "<style scoped>\n",
              "    .dataframe tbody tr th:only-of-type {\n",
              "        vertical-align: middle;\n",
              "    }\n",
              "\n",
              "    .dataframe tbody tr th {\n",
              "        vertical-align: top;\n",
              "    }\n",
              "\n",
              "    .dataframe thead th {\n",
              "        text-align: right;\n",
              "    }\n",
              "</style>\n",
              "<table border=\"1\" class=\"dataframe\">\n",
              "  <thead>\n",
              "    <tr style=\"text-align: right;\">\n",
              "      <th></th>\n",
              "      <th>Id</th>\n",
              "      <th>Name</th>\n",
              "      <th>Year</th>\n",
              "      <th>Gender</th>\n",
              "      <th>Count</th>\n",
              "    </tr>\n",
              "  </thead>\n",
              "  <tbody>\n",
              "    <tr>\n",
              "      <th>0</th>\n",
              "      <td>1</td>\n",
              "      <td>Mary</td>\n",
              "      <td>1880.0</td>\n",
              "      <td>F</td>\n",
              "      <td>7065.0</td>\n",
              "    </tr>\n",
              "    <tr>\n",
              "      <th>1</th>\n",
              "      <td>2</td>\n",
              "      <td>Anna</td>\n",
              "      <td>1880.0</td>\n",
              "      <td>F</td>\n",
              "      <td>2604.0</td>\n",
              "    </tr>\n",
              "    <tr>\n",
              "      <th>2</th>\n",
              "      <td>3</td>\n",
              "      <td>Emma</td>\n",
              "      <td>1880.0</td>\n",
              "      <td>F</td>\n",
              "      <td>2003.0</td>\n",
              "    </tr>\n",
              "    <tr>\n",
              "      <th>3</th>\n",
              "      <td>4</td>\n",
              "      <td>Elizabeth</td>\n",
              "      <td>1880.0</td>\n",
              "      <td>F</td>\n",
              "      <td>1939.0</td>\n",
              "    </tr>\n",
              "    <tr>\n",
              "      <th>4</th>\n",
              "      <td>5</td>\n",
              "      <td>Minnie</td>\n",
              "      <td>1880.0</td>\n",
              "      <td>F</td>\n",
              "      <td>1746.0</td>\n",
              "    </tr>\n",
              "  </tbody>\n",
              "</table>\n",
              "</div>"
            ],
            "text/plain": [
              "   Id       Name    Year Gender   Count\n",
              "0   1       Mary  1880.0      F  7065.0\n",
              "1   2       Anna  1880.0      F  2604.0\n",
              "2   3       Emma  1880.0      F  2003.0\n",
              "3   4  Elizabeth  1880.0      F  1939.0\n",
              "4   5     Minnie  1880.0      F  1746.0"
            ]
          },
          "metadata": {},
          "execution_count": 7
        }
      ]
    },
    {
      "cell_type": "code",
      "metadata": {
        "id": "SuH4QvnfZYp4"
      },
      "source": [
        "df1=data.drop([\"Id\",\"Year\",\"Count\"],axis=1)"
      ],
      "execution_count": null,
      "outputs": []
    },
    {
      "cell_type": "code",
      "metadata": {
        "colab": {
          "base_uri": "https://localhost:8080/",
          "height": 205
        },
        "id": "CzYLfZb8Zrhu",
        "outputId": "26bf0003-6fa5-443c-f767-6009b3617903"
      },
      "source": [
        "df1.head()"
      ],
      "execution_count": null,
      "outputs": [
        {
          "output_type": "execute_result",
          "data": {
            "text/html": [
              "<div>\n",
              "<style scoped>\n",
              "    .dataframe tbody tr th:only-of-type {\n",
              "        vertical-align: middle;\n",
              "    }\n",
              "\n",
              "    .dataframe tbody tr th {\n",
              "        vertical-align: top;\n",
              "    }\n",
              "\n",
              "    .dataframe thead th {\n",
              "        text-align: right;\n",
              "    }\n",
              "</style>\n",
              "<table border=\"1\" class=\"dataframe\">\n",
              "  <thead>\n",
              "    <tr style=\"text-align: right;\">\n",
              "      <th></th>\n",
              "      <th>Name</th>\n",
              "      <th>Gender</th>\n",
              "    </tr>\n",
              "  </thead>\n",
              "  <tbody>\n",
              "    <tr>\n",
              "      <th>0</th>\n",
              "      <td>Mary</td>\n",
              "      <td>F</td>\n",
              "    </tr>\n",
              "    <tr>\n",
              "      <th>1</th>\n",
              "      <td>Anna</td>\n",
              "      <td>F</td>\n",
              "    </tr>\n",
              "    <tr>\n",
              "      <th>2</th>\n",
              "      <td>Emma</td>\n",
              "      <td>F</td>\n",
              "    </tr>\n",
              "    <tr>\n",
              "      <th>3</th>\n",
              "      <td>Elizabeth</td>\n",
              "      <td>F</td>\n",
              "    </tr>\n",
              "    <tr>\n",
              "      <th>4</th>\n",
              "      <td>Minnie</td>\n",
              "      <td>F</td>\n",
              "    </tr>\n",
              "  </tbody>\n",
              "</table>\n",
              "</div>"
            ],
            "text/plain": [
              "        Name Gender\n",
              "0       Mary      F\n",
              "1       Anna      F\n",
              "2       Emma      F\n",
              "3  Elizabeth      F\n",
              "4     Minnie      F"
            ]
          },
          "metadata": {},
          "execution_count": 10
        }
      ]
    },
    {
      "cell_type": "code",
      "metadata": {
        "colab": {
          "base_uri": "https://localhost:8080/"
        },
        "id": "2u8_SEkoZxcs",
        "outputId": "a8079a61-8472-4f15-dc10-746820f4818f"
      },
      "source": [
        "df1.shape"
      ],
      "execution_count": null,
      "outputs": [
        {
          "output_type": "execute_result",
          "data": {
            "text/plain": [
              "(137909, 2)"
            ]
          },
          "metadata": {},
          "execution_count": 11
        }
      ]
    },
    {
      "cell_type": "code",
      "metadata": {
        "colab": {
          "base_uri": "https://localhost:8080/"
        },
        "id": "K-M9XzXbZ22u",
        "outputId": "4df8c36e-7dc5-47b2-9ea4-aa62a3267a52"
      },
      "source": [
        "df1[\"Name\"].unique()"
      ],
      "execution_count": null,
      "outputs": [
        {
          "output_type": "execute_result",
          "data": {
            "text/plain": [
              "array(['Mary', 'Anna', 'Emma', ..., 'Hensley', 'Herchell', nan],\n",
              "      dtype=object)"
            ]
          },
          "metadata": {},
          "execution_count": 13
        }
      ]
    },
    {
      "cell_type": "code",
      "metadata": {
        "colab": {
          "base_uri": "https://localhost:8080/"
        },
        "id": "WFCL14XKaTgu",
        "outputId": "e647b38d-8273-4f7c-de94-6a1344e0cc00"
      },
      "source": [
        "df1[\"Name\"].unique().size"
      ],
      "execution_count": null,
      "outputs": [
        {
          "output_type": "execute_result",
          "data": {
            "text/plain": [
              "11180"
            ]
          },
          "metadata": {},
          "execution_count": 14
        }
      ]
    },
    {
      "cell_type": "code",
      "metadata": {
        "colab": {
          "base_uri": "https://localhost:8080/"
        },
        "id": "cdfDN-iJanvs",
        "outputId": "7d77173d-aaf8-4a5e-a249-0ff0ed717674"
      },
      "source": [
        "df1[\"Name\"].nunique()"
      ],
      "execution_count": null,
      "outputs": [
        {
          "output_type": "execute_result",
          "data": {
            "text/plain": [
              "11179"
            ]
          },
          "metadata": {},
          "execution_count": 15
        }
      ]
    },
    {
      "cell_type": "code",
      "metadata": {
        "colab": {
          "base_uri": "https://localhost:8080/"
        },
        "id": "zfQbA5pcawt3",
        "outputId": "43ab65ac-a076-4eb8-9abe-582c458c8357"
      },
      "source": [
        "df1[\"Name\"].value_counts()"
      ],
      "execution_count": null,
      "outputs": [
        {
          "output_type": "execute_result",
          "data": {
            "text/plain": [
              "Theo        74\n",
              "Bennie      74\n",
              "Louie       74\n",
              "George      74\n",
              "Johnnie     74\n",
              "            ..\n",
              "Leatta       1\n",
              "Johnella     1\n",
              "Luecile      1\n",
              "Junette      1\n",
              "Malda        1\n",
              "Name: Name, Length: 11179, dtype: int64"
            ]
          },
          "metadata": {},
          "execution_count": 18
        }
      ]
    },
    {
      "cell_type": "code",
      "metadata": {
        "colab": {
          "base_uri": "https://localhost:8080/"
        },
        "id": "dBohfc83a2gv",
        "outputId": "e0b95e24-7e42-48f7-8ae9-8be3911abe2d"
      },
      "source": [
        "df1[\"Gender\"].astype(\"category\").cat.codes#we can use here getdummies but this is new way"
      ],
      "execution_count": null,
      "outputs": [
        {
          "output_type": "execute_result",
          "data": {
            "text/plain": [
              "0         0\n",
              "1         0\n",
              "2         0\n",
              "3         0\n",
              "4         0\n",
              "         ..\n",
              "137904    1\n",
              "137905    1\n",
              "137906    1\n",
              "137907    1\n",
              "137908   -1\n",
              "Length: 137909, dtype: int8"
            ]
          },
          "metadata": {},
          "execution_count": 19
        }
      ]
    },
    {
      "cell_type": "code",
      "metadata": {
        "id": "vZgbarlYb2K8"
      },
      "source": [
        "df1[\"Gender\"]=df1[\"Gender\"].astype(\"category\").cat.codes"
      ],
      "execution_count": null,
      "outputs": []
    },
    {
      "cell_type": "code",
      "metadata": {
        "colab": {
          "base_uri": "https://localhost:8080/",
          "height": 205
        },
        "id": "nUIoea_mcI3X",
        "outputId": "438cd302-98bc-40e7-830f-94b6bf804d84"
      },
      "source": [
        "df1.head()"
      ],
      "execution_count": null,
      "outputs": [
        {
          "output_type": "execute_result",
          "data": {
            "text/html": [
              "<div>\n",
              "<style scoped>\n",
              "    .dataframe tbody tr th:only-of-type {\n",
              "        vertical-align: middle;\n",
              "    }\n",
              "\n",
              "    .dataframe tbody tr th {\n",
              "        vertical-align: top;\n",
              "    }\n",
              "\n",
              "    .dataframe thead th {\n",
              "        text-align: right;\n",
              "    }\n",
              "</style>\n",
              "<table border=\"1\" class=\"dataframe\">\n",
              "  <thead>\n",
              "    <tr style=\"text-align: right;\">\n",
              "      <th></th>\n",
              "      <th>Name</th>\n",
              "      <th>Gender</th>\n",
              "    </tr>\n",
              "  </thead>\n",
              "  <tbody>\n",
              "    <tr>\n",
              "      <th>0</th>\n",
              "      <td>Mary</td>\n",
              "      <td>0</td>\n",
              "    </tr>\n",
              "    <tr>\n",
              "      <th>1</th>\n",
              "      <td>Anna</td>\n",
              "      <td>0</td>\n",
              "    </tr>\n",
              "    <tr>\n",
              "      <th>2</th>\n",
              "      <td>Emma</td>\n",
              "      <td>0</td>\n",
              "    </tr>\n",
              "    <tr>\n",
              "      <th>3</th>\n",
              "      <td>Elizabeth</td>\n",
              "      <td>0</td>\n",
              "    </tr>\n",
              "    <tr>\n",
              "      <th>4</th>\n",
              "      <td>Minnie</td>\n",
              "      <td>0</td>\n",
              "    </tr>\n",
              "  </tbody>\n",
              "</table>\n",
              "</div>"
            ],
            "text/plain": [
              "        Name  Gender\n",
              "0       Mary       0\n",
              "1       Anna       0\n",
              "2       Emma       0\n",
              "3  Elizabeth       0\n",
              "4     Minnie       0"
            ]
          },
          "metadata": {},
          "execution_count": 21
        }
      ]
    },
    {
      "cell_type": "code",
      "metadata": {
        "id": "in8KLpG4cLqf"
      },
      "source": [
        "gd1=df1.groupby(\"Name\")"
      ],
      "execution_count": null,
      "outputs": []
    },
    {
      "cell_type": "code",
      "metadata": {
        "id": "H074Ujy7clvk"
      },
      "source": [
        "df2=gd1.mean()"
      ],
      "execution_count": null,
      "outputs": []
    },
    {
      "cell_type": "code",
      "metadata": {
        "colab": {
          "base_uri": "https://localhost:8080/",
          "height": 237
        },
        "id": "p0p-G7Qtcr3t",
        "outputId": "58731433-5ffe-49ff-9240-e4a43c810221"
      },
      "source": [
        "df2.head()"
      ],
      "execution_count": null,
      "outputs": [
        {
          "output_type": "execute_result",
          "data": {
            "text/html": [
              "<div>\n",
              "<style scoped>\n",
              "    .dataframe tbody tr th:only-of-type {\n",
              "        vertical-align: middle;\n",
              "    }\n",
              "\n",
              "    .dataframe tbody tr th {\n",
              "        vertical-align: top;\n",
              "    }\n",
              "\n",
              "    .dataframe thead th {\n",
              "        text-align: right;\n",
              "    }\n",
              "</style>\n",
              "<table border=\"1\" class=\"dataframe\">\n",
              "  <thead>\n",
              "    <tr style=\"text-align: right;\">\n",
              "      <th></th>\n",
              "      <th>Gender</th>\n",
              "    </tr>\n",
              "    <tr>\n",
              "      <th>Name</th>\n",
              "      <th></th>\n",
              "    </tr>\n",
              "  </thead>\n",
              "  <tbody>\n",
              "    <tr>\n",
              "      <th>Aage</th>\n",
              "      <td>1.000000</td>\n",
              "    </tr>\n",
              "    <tr>\n",
              "      <th>Aagot</th>\n",
              "      <td>0.000000</td>\n",
              "    </tr>\n",
              "    <tr>\n",
              "      <th>Aaron</th>\n",
              "      <td>0.948718</td>\n",
              "    </tr>\n",
              "    <tr>\n",
              "      <th>Ab</th>\n",
              "      <td>1.000000</td>\n",
              "    </tr>\n",
              "    <tr>\n",
              "      <th>Abb</th>\n",
              "      <td>1.000000</td>\n",
              "    </tr>\n",
              "  </tbody>\n",
              "</table>\n",
              "</div>"
            ],
            "text/plain": [
              "         Gender\n",
              "Name           \n",
              "Aage   1.000000\n",
              "Aagot  0.000000\n",
              "Aaron  0.948718\n",
              "Ab     1.000000\n",
              "Abb    1.000000"
            ]
          },
          "metadata": {},
          "execution_count": 31
        }
      ]
    },
    {
      "cell_type": "code",
      "metadata": {
        "id": "8YTqFiy7c7Xo"
      },
      "source": [
        "df2.reset_index(inplace=True)"
      ],
      "execution_count": null,
      "outputs": []
    },
    {
      "cell_type": "code",
      "metadata": {
        "colab": {
          "base_uri": "https://localhost:8080/",
          "height": 205
        },
        "id": "uSmu2MXndbnu",
        "outputId": "9cf52854-a1db-449c-e941-8fb979ed784c"
      },
      "source": [
        "df2.head()"
      ],
      "execution_count": null,
      "outputs": [
        {
          "output_type": "execute_result",
          "data": {
            "text/html": [
              "<div>\n",
              "<style scoped>\n",
              "    .dataframe tbody tr th:only-of-type {\n",
              "        vertical-align: middle;\n",
              "    }\n",
              "\n",
              "    .dataframe tbody tr th {\n",
              "        vertical-align: top;\n",
              "    }\n",
              "\n",
              "    .dataframe thead th {\n",
              "        text-align: right;\n",
              "    }\n",
              "</style>\n",
              "<table border=\"1\" class=\"dataframe\">\n",
              "  <thead>\n",
              "    <tr style=\"text-align: right;\">\n",
              "      <th></th>\n",
              "      <th>Name</th>\n",
              "      <th>Gender</th>\n",
              "    </tr>\n",
              "  </thead>\n",
              "  <tbody>\n",
              "    <tr>\n",
              "      <th>0</th>\n",
              "      <td>Aage</td>\n",
              "      <td>1.000000</td>\n",
              "    </tr>\n",
              "    <tr>\n",
              "      <th>1</th>\n",
              "      <td>Aagot</td>\n",
              "      <td>0.000000</td>\n",
              "    </tr>\n",
              "    <tr>\n",
              "      <th>2</th>\n",
              "      <td>Aaron</td>\n",
              "      <td>0.948718</td>\n",
              "    </tr>\n",
              "    <tr>\n",
              "      <th>3</th>\n",
              "      <td>Ab</td>\n",
              "      <td>1.000000</td>\n",
              "    </tr>\n",
              "    <tr>\n",
              "      <th>4</th>\n",
              "      <td>Abb</td>\n",
              "      <td>1.000000</td>\n",
              "    </tr>\n",
              "  </tbody>\n",
              "</table>\n",
              "</div>"
            ],
            "text/plain": [
              "    Name    Gender\n",
              "0   Aage  1.000000\n",
              "1  Aagot  0.000000\n",
              "2  Aaron  0.948718\n",
              "3     Ab  1.000000\n",
              "4    Abb  1.000000"
            ]
          },
          "metadata": {},
          "execution_count": 33
        }
      ]
    },
    {
      "cell_type": "code",
      "metadata": {
        "id": "JhYYWEYqddKg"
      },
      "source": [
        "df2[\"Gender\"]=df2[\"Gender\"].astype(\"int\")"
      ],
      "execution_count": null,
      "outputs": []
    },
    {
      "cell_type": "code",
      "metadata": {
        "colab": {
          "base_uri": "https://localhost:8080/",
          "height": 205
        },
        "id": "YHVSrHnoeAek",
        "outputId": "c579b36a-efd8-4127-a230-0b380237bb67"
      },
      "source": [
        "df2.head()"
      ],
      "execution_count": null,
      "outputs": [
        {
          "output_type": "execute_result",
          "data": {
            "text/html": [
              "<div>\n",
              "<style scoped>\n",
              "    .dataframe tbody tr th:only-of-type {\n",
              "        vertical-align: middle;\n",
              "    }\n",
              "\n",
              "    .dataframe tbody tr th {\n",
              "        vertical-align: top;\n",
              "    }\n",
              "\n",
              "    .dataframe thead th {\n",
              "        text-align: right;\n",
              "    }\n",
              "</style>\n",
              "<table border=\"1\" class=\"dataframe\">\n",
              "  <thead>\n",
              "    <tr style=\"text-align: right;\">\n",
              "      <th></th>\n",
              "      <th>Name</th>\n",
              "      <th>Gender</th>\n",
              "    </tr>\n",
              "  </thead>\n",
              "  <tbody>\n",
              "    <tr>\n",
              "      <th>0</th>\n",
              "      <td>Aage</td>\n",
              "      <td>1</td>\n",
              "    </tr>\n",
              "    <tr>\n",
              "      <th>1</th>\n",
              "      <td>Aagot</td>\n",
              "      <td>0</td>\n",
              "    </tr>\n",
              "    <tr>\n",
              "      <th>2</th>\n",
              "      <td>Aaron</td>\n",
              "      <td>0</td>\n",
              "    </tr>\n",
              "    <tr>\n",
              "      <th>3</th>\n",
              "      <td>Ab</td>\n",
              "      <td>1</td>\n",
              "    </tr>\n",
              "    <tr>\n",
              "      <th>4</th>\n",
              "      <td>Abb</td>\n",
              "      <td>1</td>\n",
              "    </tr>\n",
              "  </tbody>\n",
              "</table>\n",
              "</div>"
            ],
            "text/plain": [
              "    Name  Gender\n",
              "0   Aage       1\n",
              "1  Aagot       0\n",
              "2  Aaron       0\n",
              "3     Ab       1\n",
              "4    Abb       1"
            ]
          },
          "metadata": {},
          "execution_count": 35
        }
      ]
    },
    {
      "cell_type": "code",
      "metadata": {
        "id": "WFovMX1TeCgt"
      },
      "source": [
        "import string"
      ],
      "execution_count": null,
      "outputs": []
    },
    {
      "cell_type": "code",
      "metadata": {
        "id": "1DHm0HFLeIos"
      },
      "source": [
        "letters=list(string.ascii_lowercase)"
      ],
      "execution_count": null,
      "outputs": []
    },
    {
      "cell_type": "code",
      "metadata": {
        "colab": {
          "base_uri": "https://localhost:8080/"
        },
        "id": "AeE97Rp4eLk2",
        "outputId": "3d9c13e3-d633-4fef-fd79-1f9abc9b60a9"
      },
      "source": [
        "list(range(1,27))"
      ],
      "execution_count": null,
      "outputs": [
        {
          "output_type": "execute_result",
          "data": {
            "text/plain": [
              "[1,\n",
              " 2,\n",
              " 3,\n",
              " 4,\n",
              " 5,\n",
              " 6,\n",
              " 7,\n",
              " 8,\n",
              " 9,\n",
              " 10,\n",
              " 11,\n",
              " 12,\n",
              " 13,\n",
              " 14,\n",
              " 15,\n",
              " 16,\n",
              " 17,\n",
              " 18,\n",
              " 19,\n",
              " 20,\n",
              " 21,\n",
              " 22,\n",
              " 23,\n",
              " 24,\n",
              " 25,\n",
              " 26]"
            ]
          },
          "metadata": {},
          "execution_count": 42
        }
      ]
    },
    {
      "cell_type": "code",
      "metadata": {
        "id": "asp02O2dedpU"
      },
      "source": [
        "vocab=dict(zip(letters,range(1,27)))"
      ],
      "execution_count": null,
      "outputs": []
    },
    {
      "cell_type": "code",
      "metadata": {
        "colab": {
          "base_uri": "https://localhost:8080/"
        },
        "id": "-z-W94Vmex7U",
        "outputId": "8bb9de41-11c8-4f85-9e78-545ea70c40db"
      },
      "source": [
        "vocab"
      ],
      "execution_count": null,
      "outputs": [
        {
          "output_type": "execute_result",
          "data": {
            "text/plain": [
              "{'a': 1,\n",
              " 'b': 2,\n",
              " 'c': 3,\n",
              " 'd': 4,\n",
              " 'e': 5,\n",
              " 'f': 6,\n",
              " 'g': 7,\n",
              " 'h': 8,\n",
              " 'i': 9,\n",
              " 'j': 10,\n",
              " 'k': 11,\n",
              " 'l': 12,\n",
              " 'm': 13,\n",
              " 'n': 14,\n",
              " 'o': 15,\n",
              " 'p': 16,\n",
              " 'q': 17,\n",
              " 'r': 18,\n",
              " 's': 19,\n",
              " 't': 20,\n",
              " 'u': 21,\n",
              " 'v': 22,\n",
              " 'w': 23,\n",
              " 'x': 24,\n",
              " 'y': 25,\n",
              " 'z': 26}"
            ]
          },
          "metadata": {},
          "execution_count": 44
        }
      ]
    },
    {
      "cell_type": "code",
      "metadata": {
        "colab": {
          "base_uri": "https://localhost:8080/"
        },
        "id": "EuI6cngyezL2",
        "outputId": "7cd29eea-5fa7-4c26-d07c-169c427eb146"
      },
      "source": [
        "vocab[\"n\"]"
      ],
      "execution_count": null,
      "outputs": [
        {
          "output_type": "execute_result",
          "data": {
            "text/plain": [
              "14"
            ]
          },
          "metadata": {},
          "execution_count": 45
        }
      ]
    },
    {
      "cell_type": "code",
      "metadata": {
        "colab": {
          "base_uri": "https://localhost:8080/",
          "height": 34
        },
        "id": "Zhf4H5gZe3Zd",
        "outputId": "3a75bb70-1401-4c26-efc2-e29219d7eed0"
      },
      "source": [
        "df2[\"Name\"][0]"
      ],
      "execution_count": null,
      "outputs": [
        {
          "output_type": "execute_result",
          "data": {
            "application/vnd.google.colaboratory.intrinsic+json": {
              "type": "string"
            },
            "text/plain": [
              "'Aage'"
            ]
          },
          "metadata": {},
          "execution_count": 46
        }
      ]
    },
    {
      "cell_type": "code",
      "metadata": {
        "colab": {
          "base_uri": "https://localhost:8080/"
        },
        "id": "Iu6rqk6he88m",
        "outputId": "03e2d80a-0774-4930-bddf-01d3d5e9e83a"
      },
      "source": [
        "n=[]\n",
        "for i in df2[\"Name\"][5]:\n",
        "  num=vocab[i.lower()]\n",
        "  n.append(num)\n",
        "  \n",
        "print(df2[\"Name\"][5])\n",
        "print(n) \n"
      ],
      "execution_count": null,
      "outputs": [
        {
          "output_type": "stream",
          "text": [
            "Abbey\n",
            "[1, 2, 2, 5, 25]\n"
          ],
          "name": "stdout"
        }
      ]
    },
    {
      "cell_type": "code",
      "metadata": {
        "colab": {
          "base_uri": "https://localhost:8080/"
        },
        "id": "brZDHkTbfCPQ",
        "outputId": "e38330da-00c3-4225-9142-79c6fc78f30d"
      },
      "source": [
        "df2.shape"
      ],
      "execution_count": null,
      "outputs": [
        {
          "output_type": "execute_result",
          "data": {
            "text/plain": [
              "(11179, 2)"
            ]
          },
          "metadata": {},
          "execution_count": 53
        }
      ]
    },
    {
      "cell_type": "code",
      "metadata": {
        "colab": {
          "base_uri": "https://localhost:8080/"
        },
        "id": "sgr3Ks-DgIrg",
        "outputId": "4c105c86-da5b-4c4d-c503-57cb347aad22"
      },
      "source": [
        "df2.shape[0]"
      ],
      "execution_count": null,
      "outputs": [
        {
          "output_type": "execute_result",
          "data": {
            "text/plain": [
              "11179"
            ]
          },
          "metadata": {},
          "execution_count": 55
        }
      ]
    },
    {
      "cell_type": "code",
      "metadata": {
        "colab": {
          "base_uri": "https://localhost:8080/"
        },
        "id": "zhQkzdmWgdly",
        "outputId": "46bee2cf-fa85-45e0-998c-4ee8e2e9ade5"
      },
      "source": [
        "for i in range(1,10):\n",
        "  print(df2[\"Name\"][i])"
      ],
      "execution_count": null,
      "outputs": [
        {
          "output_type": "stream",
          "text": [
            "Aagot\n",
            "Aaron\n",
            "Ab\n",
            "Abb\n",
            "Abbey\n",
            "Abbie\n",
            "Abbot\n",
            "Abbott\n",
            "Abby\n"
          ],
          "name": "stdout"
        }
      ]
    },
    {
      "cell_type": "code",
      "metadata": {
        "colab": {
          "base_uri": "https://localhost:8080/",
          "height": 422
        },
        "id": "5NXnWjRrh9bR",
        "outputId": "099e4100-7e3a-4d38-90a4-8b37197d15de"
      },
      "source": [
        "df2"
      ],
      "execution_count": null,
      "outputs": [
        {
          "output_type": "execute_result",
          "data": {
            "text/html": [
              "<div>\n",
              "<style scoped>\n",
              "    .dataframe tbody tr th:only-of-type {\n",
              "        vertical-align: middle;\n",
              "    }\n",
              "\n",
              "    .dataframe tbody tr th {\n",
              "        vertical-align: top;\n",
              "    }\n",
              "\n",
              "    .dataframe thead th {\n",
              "        text-align: right;\n",
              "    }\n",
              "</style>\n",
              "<table border=\"1\" class=\"dataframe\">\n",
              "  <thead>\n",
              "    <tr style=\"text-align: right;\">\n",
              "      <th></th>\n",
              "      <th>Name</th>\n",
              "      <th>Gender</th>\n",
              "    </tr>\n",
              "  </thead>\n",
              "  <tbody>\n",
              "    <tr>\n",
              "      <th>0</th>\n",
              "      <td>Aage</td>\n",
              "      <td>1</td>\n",
              "    </tr>\n",
              "    <tr>\n",
              "      <th>1</th>\n",
              "      <td>Aagot</td>\n",
              "      <td>0</td>\n",
              "    </tr>\n",
              "    <tr>\n",
              "      <th>2</th>\n",
              "      <td>Aaron</td>\n",
              "      <td>0</td>\n",
              "    </tr>\n",
              "    <tr>\n",
              "      <th>3</th>\n",
              "      <td>Ab</td>\n",
              "      <td>1</td>\n",
              "    </tr>\n",
              "    <tr>\n",
              "      <th>4</th>\n",
              "      <td>Abb</td>\n",
              "      <td>1</td>\n",
              "    </tr>\n",
              "    <tr>\n",
              "      <th>...</th>\n",
              "      <td>...</td>\n",
              "      <td>...</td>\n",
              "    </tr>\n",
              "    <tr>\n",
              "      <th>11174</th>\n",
              "      <td>Zygmont</td>\n",
              "      <td>1</td>\n",
              "    </tr>\n",
              "    <tr>\n",
              "      <th>11175</th>\n",
              "      <td>Zygmund</td>\n",
              "      <td>1</td>\n",
              "    </tr>\n",
              "    <tr>\n",
              "      <th>11176</th>\n",
              "      <td>Zygmunt</td>\n",
              "      <td>1</td>\n",
              "    </tr>\n",
              "    <tr>\n",
              "      <th>11177</th>\n",
              "      <td>Zylpha</td>\n",
              "      <td>0</td>\n",
              "    </tr>\n",
              "    <tr>\n",
              "      <th>11178</th>\n",
              "      <td>Zylphia</td>\n",
              "      <td>0</td>\n",
              "    </tr>\n",
              "  </tbody>\n",
              "</table>\n",
              "<p>11179 rows × 2 columns</p>\n",
              "</div>"
            ],
            "text/plain": [
              "          Name  Gender\n",
              "0         Aage       1\n",
              "1        Aagot       0\n",
              "2        Aaron       0\n",
              "3           Ab       1\n",
              "4          Abb       1\n",
              "...        ...     ...\n",
              "11174  Zygmont       1\n",
              "11175  Zygmund       1\n",
              "11176  Zygmunt       1\n",
              "11177   Zylpha       0\n",
              "11178  Zylphia       0\n",
              "\n",
              "[11179 rows x 2 columns]"
            ]
          },
          "metadata": {},
          "execution_count": 60
        }
      ]
    },
    {
      "cell_type": "code",
      "metadata": {
        "id": "iujewchcgszg"
      },
      "source": [
        "def name_to_num():\n",
        "  for i in range(0,df2.shape[0]):\n",
        "    seq=[vocab[j.lower()]    for j in df2[\"Name\"][i]]\n",
        "    df2[\"Name\"][i]=seq"
      ],
      "execution_count": null,
      "outputs": []
    },
    {
      "cell_type": "code",
      "metadata": {
        "colab": {
          "base_uri": "https://localhost:8080/"
        },
        "id": "5dY_LrVOhhwI",
        "outputId": "43b5f51b-f332-4361-dc4d-7b2bc1d64523"
      },
      "source": [
        "name_to_num()"
      ],
      "execution_count": null,
      "outputs": [
        {
          "output_type": "stream",
          "text": [
            "/usr/local/lib/python3.7/dist-packages/ipykernel_launcher.py:4: SettingWithCopyWarning: \n",
            "A value is trying to be set on a copy of a slice from a DataFrame\n",
            "\n",
            "See the caveats in the documentation: https://pandas.pydata.org/pandas-docs/stable/user_guide/indexing.html#returning-a-view-versus-a-copy\n",
            "  after removing the cwd from sys.path.\n"
          ],
          "name": "stderr"
        }
      ]
    },
    {
      "cell_type": "code",
      "metadata": {
        "colab": {
          "base_uri": "https://localhost:8080/",
          "height": 205
        },
        "id": "XUvpJC-8hqLO",
        "outputId": "b5317913-b7b2-451d-bdba-a93d4669b232"
      },
      "source": [
        "df2.head()"
      ],
      "execution_count": null,
      "outputs": [
        {
          "output_type": "execute_result",
          "data": {
            "text/html": [
              "<div>\n",
              "<style scoped>\n",
              "    .dataframe tbody tr th:only-of-type {\n",
              "        vertical-align: middle;\n",
              "    }\n",
              "\n",
              "    .dataframe tbody tr th {\n",
              "        vertical-align: top;\n",
              "    }\n",
              "\n",
              "    .dataframe thead th {\n",
              "        text-align: right;\n",
              "    }\n",
              "</style>\n",
              "<table border=\"1\" class=\"dataframe\">\n",
              "  <thead>\n",
              "    <tr style=\"text-align: right;\">\n",
              "      <th></th>\n",
              "      <th>Name</th>\n",
              "      <th>Gender</th>\n",
              "    </tr>\n",
              "  </thead>\n",
              "  <tbody>\n",
              "    <tr>\n",
              "      <th>0</th>\n",
              "      <td>[1, 1, 7, 5]</td>\n",
              "      <td>1</td>\n",
              "    </tr>\n",
              "    <tr>\n",
              "      <th>1</th>\n",
              "      <td>[1, 1, 7, 15, 20]</td>\n",
              "      <td>0</td>\n",
              "    </tr>\n",
              "    <tr>\n",
              "      <th>2</th>\n",
              "      <td>[1, 1, 18, 15, 14]</td>\n",
              "      <td>0</td>\n",
              "    </tr>\n",
              "    <tr>\n",
              "      <th>3</th>\n",
              "      <td>[1, 2]</td>\n",
              "      <td>1</td>\n",
              "    </tr>\n",
              "    <tr>\n",
              "      <th>4</th>\n",
              "      <td>[1, 2, 2]</td>\n",
              "      <td>1</td>\n",
              "    </tr>\n",
              "  </tbody>\n",
              "</table>\n",
              "</div>"
            ],
            "text/plain": [
              "                 Name  Gender\n",
              "0        [1, 1, 7, 5]       1\n",
              "1   [1, 1, 7, 15, 20]       0\n",
              "2  [1, 1, 18, 15, 14]       0\n",
              "3              [1, 2]       1\n",
              "4           [1, 2, 2]       1"
            ]
          },
          "metadata": {},
          "execution_count": 63
        }
      ]
    },
    {
      "cell_type": "code",
      "metadata": {
        "id": "mk11zuwDif07"
      },
      "source": [
        "X=df2[\"Name\"].values"
      ],
      "execution_count": null,
      "outputs": []
    },
    {
      "cell_type": "code",
      "metadata": {
        "id": "8GZvTHgMioVW"
      },
      "source": [
        "y=df2[\"Gender\"].values"
      ],
      "execution_count": null,
      "outputs": []
    },
    {
      "cell_type": "code",
      "metadata": {
        "colab": {
          "base_uri": "https://localhost:8080/"
        },
        "id": "k1_Vzh0bixPA",
        "outputId": "882988e0-a990-40d6-d85b-5362765b7e90"
      },
      "source": [
        "X"
      ],
      "execution_count": null,
      "outputs": [
        {
          "output_type": "execute_result",
          "data": {
            "text/plain": [
              "array([list([1, 1, 7, 5]), list([1, 1, 7, 15, 20]),\n",
              "       list([1, 1, 18, 15, 14]), ..., list([26, 25, 7, 13, 21, 14, 20]),\n",
              "       list([26, 25, 12, 16, 8, 1]), list([26, 25, 12, 16, 8, 9, 1])],\n",
              "      dtype=object)"
            ]
          },
          "metadata": {},
          "execution_count": 68
        }
      ]
    },
    {
      "cell_type": "code",
      "metadata": {
        "id": "lXQxEYSuiyYJ"
      },
      "source": [
        "from tensorflow.keras.preprocessing.sequence import pad_sequences"
      ],
      "execution_count": null,
      "outputs": []
    },
    {
      "cell_type": "code",
      "metadata": {
        "id": "GZ82aAj9jGhj"
      },
      "source": [
        "x=pad_sequences(df2[\"Name\"].values,maxlen=10,padding=\"pre\")"
      ],
      "execution_count": null,
      "outputs": []
    },
    {
      "cell_type": "code",
      "metadata": {
        "colab": {
          "base_uri": "https://localhost:8080/"
        },
        "id": "qjHj638Hjgxg",
        "outputId": "ab444e56-a72f-48d9-b0a1-d391ed781c2f"
      },
      "source": [
        "x"
      ],
      "execution_count": null,
      "outputs": [
        {
          "output_type": "execute_result",
          "data": {
            "text/plain": [
              "array([[ 0,  0,  0, ...,  1,  7,  5],\n",
              "       [ 0,  0,  0, ...,  7, 15, 20],\n",
              "       [ 0,  0,  0, ..., 18, 15, 14],\n",
              "       ...,\n",
              "       [ 0,  0,  0, ..., 21, 14, 20],\n",
              "       [ 0,  0,  0, ..., 16,  8,  1],\n",
              "       [ 0,  0,  0, ...,  8,  9,  1]], dtype=int32)"
            ]
          },
          "metadata": {},
          "execution_count": 71
        }
      ]
    },
    {
      "cell_type": "code",
      "metadata": {
        "colab": {
          "base_uri": "https://localhost:8080/"
        },
        "id": "xxr2FKvyjivU",
        "outputId": "1dcaf48b-6677-4d29-c02e-49fc0d5ed5ff"
      },
      "source": [
        "X[0]"
      ],
      "execution_count": null,
      "outputs": [
        {
          "output_type": "execute_result",
          "data": {
            "text/plain": [
              "[1, 1, 7, 5]"
            ]
          },
          "metadata": {},
          "execution_count": 72
        }
      ]
    },
    {
      "cell_type": "code",
      "metadata": {
        "colab": {
          "base_uri": "https://localhost:8080/"
        },
        "id": "yzW2Hmqrjm4A",
        "outputId": "812ee72d-8955-4a3b-8b15-1d6372f49cdf"
      },
      "source": [
        "x[0]"
      ],
      "execution_count": null,
      "outputs": [
        {
          "output_type": "execute_result",
          "data": {
            "text/plain": [
              "array([0, 0, 0, 0, 0, 0, 1, 1, 7, 5], dtype=int32)"
            ]
          },
          "metadata": {},
          "execution_count": 73
        }
      ]
    },
    {
      "cell_type": "markdown",
      "metadata": {
        "id": "4w7nIQQij0bF"
      },
      "source": [
        "# model_building"
      ]
    },
    {
      "cell_type": "code",
      "metadata": {
        "id": "-OTAA2Ghjpgo"
      },
      "source": [
        "inp=layers.Input(shape=(10,))"
      ],
      "execution_count": null,
      "outputs": []
    },
    {
      "cell_type": "code",
      "metadata": {
        "id": "yPYs_pWWkAZL"
      },
      "source": [
        "emb=layers.Embedding(input_dim=27,output_dim=5)(inp)"
      ],
      "execution_count": null,
      "outputs": []
    },
    {
      "cell_type": "code",
      "metadata": {
        "id": "WpGtCQ9KkPLB"
      },
      "source": [
        "lstm1=layers.LSTM(units=32,return_sequences=True)(emb)"
      ],
      "execution_count": null,
      "outputs": []
    },
    {
      "cell_type": "code",
      "metadata": {
        "id": "wOLGrcGykmpg"
      },
      "source": [
        "lstm2=layers.LSTM(units=64)(lstm1)"
      ],
      "execution_count": null,
      "outputs": []
    },
    {
      "cell_type": "code",
      "metadata": {
        "id": "PM0KQxiFkzIH"
      },
      "source": [
        "out=layers.Dense(units=1,activation=\"sigmoid\")(lstm2)"
      ],
      "execution_count": null,
      "outputs": []
    },
    {
      "cell_type": "code",
      "metadata": {
        "id": "mcdtK65ElZ4N"
      },
      "source": [
        "model=keras.Model(inputs=inp,outputs=out)"
      ],
      "execution_count": null,
      "outputs": []
    },
    {
      "cell_type": "code",
      "metadata": {
        "colab": {
          "base_uri": "https://localhost:8080/"
        },
        "id": "bObS51WZl3VB",
        "outputId": "9a57b71b-6d19-47eb-effb-fd65d7b4448d"
      },
      "source": [
        "model.summary()"
      ],
      "execution_count": null,
      "outputs": [
        {
          "output_type": "stream",
          "text": [
            "Model: \"model\"\n",
            "_________________________________________________________________\n",
            "Layer (type)                 Output Shape              Param #   \n",
            "=================================================================\n",
            "input_1 (InputLayer)         [(None, 10)]              0         \n",
            "_________________________________________________________________\n",
            "embedding (Embedding)        (None, 10, 5)             135       \n",
            "_________________________________________________________________\n",
            "lstm (LSTM)                  (None, 10, 32)            4864      \n",
            "_________________________________________________________________\n",
            "lstm_1 (LSTM)                (None, 64)                24832     \n",
            "_________________________________________________________________\n",
            "dense (Dense)                (None, 1)                 65        \n",
            "=================================================================\n",
            "Total params: 29,896\n",
            "Trainable params: 29,896\n",
            "Non-trainable params: 0\n",
            "_________________________________________________________________\n"
          ],
          "name": "stdout"
        }
      ]
    },
    {
      "cell_type": "code",
      "metadata": {
        "id": "SFmBUxZdl6Hh"
      },
      "source": [
        "model.compile(optimizer=\"adam\",loss=\"binary_crossentropy\",metrics=[\"accuracy\"])"
      ],
      "execution_count": null,
      "outputs": []
    },
    {
      "cell_type": "code",
      "metadata": {
        "colab": {
          "base_uri": "https://localhost:8080/"
        },
        "id": "mt0sVf5ZmNIh",
        "outputId": "f585b0ec-d412-4fe9-ab5d-a591464c509d"
      },
      "source": [
        "model.fit(x,y,epochs=25,batch_size=256,validation_split=0.20)"
      ],
      "execution_count": null,
      "outputs": [
        {
          "output_type": "stream",
          "text": [
            "Epoch 1/25\n",
            "35/35 [==============================] - 1s 41ms/step - loss: 0.4158 - accuracy: 0.7954 - val_loss: 0.4046 - val_accuracy: 0.8055\n",
            "Epoch 2/25\n",
            "35/35 [==============================] - 1s 40ms/step - loss: 0.4140 - accuracy: 0.7985 - val_loss: 0.4047 - val_accuracy: 0.8010\n",
            "Epoch 3/25\n",
            "35/35 [==============================] - 1s 40ms/step - loss: 0.4132 - accuracy: 0.8005 - val_loss: 0.4057 - val_accuracy: 0.8064\n",
            "Epoch 4/25\n",
            "35/35 [==============================] - 1s 39ms/step - loss: 0.4129 - accuracy: 0.7992 - val_loss: 0.4043 - val_accuracy: 0.8077\n",
            "Epoch 5/25\n",
            "35/35 [==============================] - 1s 40ms/step - loss: 0.4105 - accuracy: 0.8017 - val_loss: 0.4058 - val_accuracy: 0.8077\n",
            "Epoch 6/25\n",
            "35/35 [==============================] - 1s 40ms/step - loss: 0.4090 - accuracy: 0.8036 - val_loss: 0.4052 - val_accuracy: 0.8077\n",
            "Epoch 7/25\n",
            "35/35 [==============================] - 1s 40ms/step - loss: 0.4065 - accuracy: 0.8038 - val_loss: 0.4086 - val_accuracy: 0.8095\n",
            "Epoch 8/25\n",
            "35/35 [==============================] - 1s 40ms/step - loss: 0.4053 - accuracy: 0.8052 - val_loss: 0.4067 - val_accuracy: 0.8041\n",
            "Epoch 9/25\n",
            "35/35 [==============================] - 1s 40ms/step - loss: 0.4033 - accuracy: 0.8058 - val_loss: 0.4075 - val_accuracy: 0.8050\n",
            "Epoch 10/25\n",
            "35/35 [==============================] - 1s 40ms/step - loss: 0.4020 - accuracy: 0.8070 - val_loss: 0.4104 - val_accuracy: 0.8064\n",
            "Epoch 11/25\n",
            "35/35 [==============================] - 1s 40ms/step - loss: 0.4027 - accuracy: 0.8071 - val_loss: 0.4096 - val_accuracy: 0.8037\n",
            "Epoch 12/25\n",
            "35/35 [==============================] - 1s 40ms/step - loss: 0.4001 - accuracy: 0.8081 - val_loss: 0.4074 - val_accuracy: 0.8032\n",
            "Epoch 13/25\n",
            "35/35 [==============================] - 1s 40ms/step - loss: 0.3981 - accuracy: 0.8095 - val_loss: 0.4084 - val_accuracy: 0.8081\n",
            "Epoch 14/25\n",
            "35/35 [==============================] - 1s 41ms/step - loss: 0.3976 - accuracy: 0.8111 - val_loss: 0.4079 - val_accuracy: 0.8064\n",
            "Epoch 15/25\n",
            "35/35 [==============================] - 1s 40ms/step - loss: 0.3961 - accuracy: 0.8104 - val_loss: 0.4076 - val_accuracy: 0.8055\n",
            "Epoch 16/25\n",
            "35/35 [==============================] - 1s 40ms/step - loss: 0.3953 - accuracy: 0.8120 - val_loss: 0.4086 - val_accuracy: 0.8064\n",
            "Epoch 17/25\n",
            "35/35 [==============================] - 1s 40ms/step - loss: 0.3951 - accuracy: 0.8123 - val_loss: 0.4072 - val_accuracy: 0.8050\n",
            "Epoch 18/25\n",
            "35/35 [==============================] - 1s 40ms/step - loss: 0.3926 - accuracy: 0.8144 - val_loss: 0.4097 - val_accuracy: 0.8072\n",
            "Epoch 19/25\n",
            "35/35 [==============================] - 1s 40ms/step - loss: 0.3920 - accuracy: 0.8155 - val_loss: 0.4116 - val_accuracy: 0.8037\n",
            "Epoch 20/25\n",
            "35/35 [==============================] - 1s 41ms/step - loss: 0.3927 - accuracy: 0.8110 - val_loss: 0.4076 - val_accuracy: 0.8068\n",
            "Epoch 21/25\n",
            "35/35 [==============================] - 1s 41ms/step - loss: 0.3910 - accuracy: 0.8134 - val_loss: 0.4093 - val_accuracy: 0.8055\n",
            "Epoch 22/25\n",
            "35/35 [==============================] - 1s 40ms/step - loss: 0.3896 - accuracy: 0.8172 - val_loss: 0.4057 - val_accuracy: 0.8068\n",
            "Epoch 23/25\n",
            "35/35 [==============================] - 1s 40ms/step - loss: 0.3886 - accuracy: 0.8173 - val_loss: 0.4077 - val_accuracy: 0.8032\n",
            "Epoch 24/25\n",
            "35/35 [==============================] - 1s 40ms/step - loss: 0.3872 - accuracy: 0.8145 - val_loss: 0.4071 - val_accuracy: 0.8032\n",
            "Epoch 25/25\n",
            "35/35 [==============================] - 1s 40ms/step - loss: 0.3860 - accuracy: 0.8176 - val_loss: 0.4055 - val_accuracy: 0.8064\n"
          ],
          "name": "stdout"
        },
        {
          "output_type": "execute_result",
          "data": {
            "text/plain": [
              "<keras.callbacks.History at 0x7f19cc7e11d0>"
            ]
          },
          "metadata": {},
          "execution_count": 95
        }
      ]
    },
    {
      "cell_type": "code",
      "metadata": {
        "id": "r_S6aHp-mcOt"
      },
      "source": [
        "name=\"john\""
      ],
      "execution_count": null,
      "outputs": []
    },
    {
      "cell_type": "code",
      "metadata": {
        "colab": {
          "base_uri": "https://localhost:8080/"
        },
        "id": "tDwSyhUBm9Zp",
        "outputId": "afccb79b-68fe-423f-b434-b1fa333e5736"
      },
      "source": [
        "s=[vocab[i.lower()] for i in name]\n",
        "print(s)"
      ],
      "execution_count": null,
      "outputs": [
        {
          "output_type": "stream",
          "text": [
            "[10, 15, 8, 14]\n"
          ],
          "name": "stdout"
        }
      ]
    },
    {
      "cell_type": "code",
      "metadata": {
        "id": "5aDiMt7YnJJG"
      },
      "source": [
        "test=pad_sequences([s],maxlen=10)"
      ],
      "execution_count": null,
      "outputs": []
    },
    {
      "cell_type": "code",
      "metadata": {
        "colab": {
          "base_uri": "https://localhost:8080/"
        },
        "id": "lEkmJPusnUWY",
        "outputId": "08f93d4a-f124-48dd-c8c1-17a704565e33"
      },
      "source": [
        "test"
      ],
      "execution_count": null,
      "outputs": [
        {
          "output_type": "execute_result",
          "data": {
            "text/plain": [
              "array([[ 0,  0,  0,  0,  0,  0, 10, 15,  8, 14]], dtype=int32)"
            ]
          },
          "metadata": {},
          "execution_count": 92
        }
      ]
    },
    {
      "cell_type": "code",
      "metadata": {
        "id": "2ZCs-IjinVM5"
      },
      "source": [
        "p=model.predict(test)"
      ],
      "execution_count": null,
      "outputs": []
    },
    {
      "cell_type": "code",
      "metadata": {
        "colab": {
          "base_uri": "https://localhost:8080/"
        },
        "id": "-H1-f4Hgnlp5",
        "outputId": "8a9bc728-2c55-44ff-bb4d-ecfa7bc08f21"
      },
      "source": [
        "if p>=0.5:\n",
        "  print(name,\"is male\")\n",
        "else :\n",
        "  print(name,\"is female\")"
      ],
      "execution_count": null,
      "outputs": [
        {
          "output_type": "stream",
          "text": [
            "john is male\n"
          ],
          "name": "stdout"
        }
      ]
    },
    {
      "cell_type": "code",
      "metadata": {
        "id": "XheEceIrnzeJ"
      },
      "source": [
        ""
      ],
      "execution_count": null,
      "outputs": []
    }
  ]
}